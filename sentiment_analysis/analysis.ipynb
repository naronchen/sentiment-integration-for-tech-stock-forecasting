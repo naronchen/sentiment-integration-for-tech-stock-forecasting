{
 "cells": [
  {
   "cell_type": "code",
   "execution_count": 1,
   "metadata": {},
   "outputs": [
    {
     "name": "stderr",
     "output_type": "stream",
     "text": [
      "[nltk_data] Downloading package vader_lexicon to\n",
      "[nltk_data]     /Users/naron/nltk_data...\n",
      "[nltk_data]   Package vader_lexicon is already up-to-date!\n"
     ]
    }
   ],
   "source": [
    "# information on Vader Lexicon https://www.kaggle.com/datasets/nltkdata/vader-lexicon\n",
    "# its a lexicon ( a set of words with sentiment scores) and rule-based (human pre-defined rool) sentiment analysis tool\n",
    "import nltk\n",
    "nltk.download('vader_lexicon')\n",
    "from nltk.sentiment import SentimentIntensityAnalyzer\n",
    "import pandas as pd"
   ]
  },
  {
   "cell_type": "code",
   "execution_count": 21,
   "metadata": {},
   "outputs": [
    {
     "name": "stdout",
     "output_type": "stream",
     "text": [
      "{'neg': 0.344, 'neu': 0.656, 'pos': 0.0, 'compound': -0.7424}\n",
      "{'neg': 0.0, 'neu': 0.84, 'pos': 0.16, 'compound': 0.2714}\n"
     ]
    }
   ],
   "source": [
    "# our own list of positive words (sponsored by chatgpt)\n",
    "positive_words = 'bargain bullish appreciation dividend yield earnings growth prospects healthy financial oversold positive outlook support investing upward trend buy'\n",
    "negative_words = 'bearish bubble depreciation downturn falling missed overbought overpriced put resistance sell short squeeze sold undervalued downgrade sell'\n",
    "\n",
    "dictOfpos = { word : 2 for word in positive_words.split() }\n",
    "dictOfneg = { word : -2 for word in negative_words.split()  }\n",
    "\n",
    "Financial_Lexicon = {**dictOfpos, **dictOfneg} #merge them two\n",
    "\n",
    "SIA = SentimentIntensityAnalyzer()\n",
    "SIA.lexicon.update(Financial_Lexicon)\n",
    "\n",
    "#testing\n",
    "print(SIA.polarity_scores('the world is ending tmr, all markets are falling, sell all your stock asap!'))\n",
    "print(SIA.polarity_scores('we are moving to Mars, all stocks related to Mars Tech are recommended!'))"
   ]
  },
  {
   "cell_type": "code",
   "execution_count": 44,
   "metadata": {},
   "outputs": [],
   "source": [
    "import csv\n",
    "\n",
    "df_tweets = pd.read_csv('../Data/cleaned_Tweet.csv')\n",
    "\n",
    "# Initialize a CSV file to write the results\n",
    "\n",
    "df_tweets = pd.read_csv('../Data/cleaned_Tweet.csv')\n",
    "df_100plus = pd.read_csv('../Data/opinionLeader_100plus.csv')\n",
    "df_company = pd.read_csv('../Data/Company_Tweet.csv')\n",
    "\n",
    "#merge in writer with 100+``and their follower count, \n",
    "df_tweets_filtered = df_tweets.merge(df_100plus[['writer', 'follower_count']], on='writer', how='inner')\\\n",
    "                              .merge(df_company[['tweet_id', 'ticker_symbol']], on='tweet_id', how='inner')"
   ]
  },
  {
   "cell_type": "code",
   "execution_count": 45,
   "metadata": {},
   "outputs": [],
   "source": [
    "#add sentiment score\n",
    "def get_sentiment_score(tweet):\n",
    "    return SIA.polarity_scores(tweet)\n",
    "df_tweets_filtered['sentiment_score'] = df_tweets_filtered['body'].apply(get_sentiment_score)"
   ]
  },
  {
   "cell_type": "code",
   "execution_count": 51,
   "metadata": {},
   "outputs": [],
   "source": [
    "#drop duplicates\n",
    "df_tweets_filtered = df_tweets_filtered.drop_duplicates(subset='tweet_id')\n",
    "df_tweets_filtered.to_csv('../Data/ultimate_twitter.csv', index=False)"
   ]
  },
  {
   "cell_type": "code",
   "execution_count": 52,
   "metadata": {},
   "outputs": [
    {
     "name": "stdout",
     "output_type": "stream",
     "text": [
      "                    tweet_id           writer   post_date  \\\n",
      "0         550441509175443456  VisualStockRSRC  1420070457   \n",
      "1         550541247958749185  VisualStockRSRC  1420094236   \n",
      "2         551121039468802049  VisualStockRSRC  1420232469   \n",
      "3         551845922851016704  VisualStockRSRC  1420405295   \n",
      "4         551899468493496321  VisualStockRSRC  1420418061   \n",
      "...                      ...              ...         ...   \n",
      "3351781  1212114615665979393      shopcardhub  1577825619   \n",
      "3351782  1212120655434530816     raycallaway1  1577827059   \n",
      "3351783  1212121240435150851       unsuckEBAY  1577827198   \n",
      "3351784  1212145324296458241   tradeoilstocks  1577832940   \n",
      "3351785  1212149370805739522     nuancerocket  1577833905   \n",
      "\n",
      "                                                      body  comment_num  \\\n",
      "0        lx21 made $10,008  on $AAPL -Check it out! htt...            0   \n",
      "1        $GOOG - Music Downloads Plummet in U.S., but S...            0   \n",
      "2        lx21 made $12,976  on $TSLA -Check it out! htt...            0   \n",
      "3        lx21 made $10,370  on $TSLA -Check it out! htt...            0   \n",
      "4        $GOOG - Europe to Tighten Screws on How Google...            0   \n",
      "...                                                    ...          ...   \n",
      "3351781                         I trimmed some $AAPL today            0   \n",
      "3351782  Finished the year with a =) trading with the b...            1   \n",
      "3351783  Whatever's happens at $EBAY, a thorough (and d...            4   \n",
      "3351784  $fb $amzn $goog $nflx? Should have an acronym ...            0   \n",
      "3351785  backed up similar content from cd’s to icloud ...            0   \n",
      "\n",
      "         retweet_num  like_num  follower_count ticker_symbol  \\\n",
      "0                  0         1            2016          AAPL   \n",
      "1                  0         0            2016          GOOG   \n",
      "2                  0         0            2016          TSLA   \n",
      "3                  0         0            2016          TSLA   \n",
      "4                  0         0            2016          GOOG   \n",
      "...              ...       ...             ...           ...   \n",
      "3351781            0         0            2258          AAPL   \n",
      "3351782            2         6             949          TSLA   \n",
      "3351783            1         7           30140          AMZN   \n",
      "3351784            0         0            4442          GOOG   \n",
      "3351785            0         2             811          AAPL   \n",
      "\n",
      "                                           sentiment_score  \n",
      "0        {'neg': 0.0, 'neu': 1.0, 'pos': 0.0, 'compound...  \n",
      "1        {'neg': 0.0, 'neu': 1.0, 'pos': 0.0, 'compound...  \n",
      "2        {'neg': 0.0, 'neu': 1.0, 'pos': 0.0, 'compound...  \n",
      "3        {'neg': 0.0, 'neu': 1.0, 'pos': 0.0, 'compound...  \n",
      "4        {'neg': 0.125, 'neu': 0.688, 'pos': 0.188, 'co...  \n",
      "...                                                    ...  \n",
      "3351781  {'neg': 0.0, 'neu': 1.0, 'pos': 0.0, 'compound...  \n",
      "3351782  {'neg': 0.0, 'neu': 0.689, 'pos': 0.311, 'comp...  \n",
      "3351783  {'neg': 0.134, 'neu': 0.768, 'pos': 0.098, 'co...  \n",
      "3351784  {'neg': 0.0, 'neu': 1.0, 'pos': 0.0, 'compound...  \n",
      "3351785  {'neg': 0.144, 'neu': 0.82, 'pos': 0.036, 'com...  \n",
      "\n",
      "[2866176 rows x 10 columns]\n"
     ]
    }
   ],
   "source": [
    "print(df_tweets_filtered)"
   ]
  },
  {
   "cell_type": "code",
   "execution_count": null,
   "metadata": {},
   "outputs": [],
   "source": []
  }
 ],
 "metadata": {
  "kernelspec": {
   "display_name": "Python 3 (ipykernel)",
   "language": "python",
   "name": "python3"
  },
  "orig_nbformat": 4
 },
 "nbformat": 4,
 "nbformat_minor": 2
}
