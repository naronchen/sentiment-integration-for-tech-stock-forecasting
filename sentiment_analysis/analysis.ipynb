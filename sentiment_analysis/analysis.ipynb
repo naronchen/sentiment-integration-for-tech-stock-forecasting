{
 "cells": [
  {
   "cell_type": "code",
   "execution_count": 1,
   "metadata": {},
   "outputs": [
    {
     "name": "stderr",
     "output_type": "stream",
     "text": [
      "[nltk_data] Downloading package vader_lexicon to\n",
      "[nltk_data]     /Users/naron/nltk_data...\n",
      "[nltk_data]   Package vader_lexicon is already up-to-date!\n"
     ]
    }
   ],
   "source": [
    "# information on Vader Lexicon https://www.kaggle.com/datasets/nltkdata/vader-lexicon\n",
    "# its a lexicon ( a set of words with sentiment scores) and rule-based (human pre-defined rool) sentiment analysis tool\n",
    "import nltk\n",
    "nltk.download('vader_lexicon')\n",
    "from nltk.sentiment import SentimentIntensityAnalyzer\n",
    "import pandas as pd"
   ]
  },
  {
   "cell_type": "code",
   "execution_count": 21,
   "metadata": {},
   "outputs": [
    {
     "name": "stdout",
     "output_type": "stream",
     "text": [
      "{'neg': 0.344, 'neu': 0.656, 'pos': 0.0, 'compound': -0.7424}\n",
      "{'neg': 0.0, 'neu': 0.84, 'pos': 0.16, 'compound': 0.2714}\n"
     ]
    }
   ],
   "source": [
    "# our own list of positive words (sponsored by chatgpt)\n",
    "positive_words = 'bargain bullish appreciation dividend yield earnings growth prospects healthy financial oversold positive outlook support investing upward trend buy'\n",
    "negative_words = 'bearish bubble depreciation downturn falling missed overbought overpriced put resistance sell short squeeze sold undervalued downgrade sell'\n",
    "\n",
    "dictOfpos = { word : 2 for word in positive_words.split() }\n",
    "dictOfneg = { word : -2 for word in negative_words.split()  }\n",
    "\n",
    "Financial_Lexicon = {**dictOfpos, **dictOfneg} #merge them two\n",
    "\n",
    "SIA = SentimentIntensityAnalyzer()\n",
    "SIA.lexicon.update(Financial_Lexicon)\n",
    "\n",
    "#testing\n",
    "print(SIA.polarity_scores('the world is ending tmr, all markets are falling, sell all your stock asap!'))\n",
    "print(SIA.polarity_scores('we are moving to Mars, all stocks related to Mars Tech are recommended!'))"
   ]
  },
  {
   "cell_type": "code",
   "execution_count": 44,
   "metadata": {},
   "outputs": [],
   "source": [
    "import csv\n",
    "\n",
    "df_tweets = pd.read_csv('../Data/cleaned_Tweet.csv')\n",
    "\n",
    "# Initialize a CSV file to write the results\n",
    "\n",
    "df_tweets = pd.read_csv('../Data/cleaned_Tweet.csv')\n",
    "df_100plus = pd.read_csv('../Data/opinionLeader_100plus.csv')\n",
    "df_company = pd.read_csv('../Data/Company_Tweet.csv')\n",
    "\n",
    "#merge in writer with 100+``, follower count, tweet id\n",
    "df_tweets_filtered = df_tweets.merge(df_100plus[['writer', 'follower_count']], on='writer', how='inner')\\\n",
    "                              .merge(df_company[['tweet_id', 'ticker_symbol']], on='tweet_id', how='inner')"
   ]
  },
  {
   "cell_type": "code",
   "execution_count": 45,
   "metadata": {},
   "outputs": [],
   "source": [
    "def get_sentiment_score(tweet):\n",
    "    return SIA.polarity_scores(tweet)\n",
    "df_tweets_filtered['sentiment_score'] = df_tweets_filtered['body'].apply(get_sentiment_score)"
   ]
  },
  {
   "cell_type": "code",
   "execution_count": null,
   "metadata": {},
   "outputs": [],
   "source": [
    "\n",
    "df_tweets_filtered.to_csv('../Data/cleaned_Tweet.csv', index=False)\n"
   ]
  }
 ],
 "metadata": {
  "kernelspec": {
   "display_name": "Python 3 (ipykernel)",
   "language": "python",
   "name": "python3"
  },
  "language_info": {
   "codemirror_mode": {
    "name": "ipython",
    "version": 3
   },
   "file_extension": ".py",
   "mimetype": "text/x-python",
   "name": "python",
   "nbconvert_exporter": "python",
   "pygments_lexer": "ipython3",
   "version": "3.9.13"
  },
  "orig_nbformat": 4
 },
 "nbformat": 4,
 "nbformat_minor": 2
}
