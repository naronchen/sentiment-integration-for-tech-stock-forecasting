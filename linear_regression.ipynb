{
 "cells": [
  {
   "cell_type": "code",
   "execution_count": 3,
   "metadata": {},
   "outputs": [
    {
     "name": "stdout",
     "output_type": "stream",
     "text": [
      "Test score on the fifth dataset: 0.6344514586880255\n"
     ]
    }
   ],
   "source": [
    "import pandas as pd\n",
    "import numpy as np\n",
    "from sklearn.linear_model import LinearRegression\n",
    "from sklearn.preprocessing import MinMaxScaler\n",
    "\n",
    "filepaths = [\n",
    "    \"Ultimate_AAPL_filtered.csv\",\n",
    "    \"Ultimate_TSLA_filtered.csv\",\n",
    "    \"Ultimate_MSFT_filtered.csv\",\n",
    "    \"Ultimate_GOOG_filtered.csv\",\n",
    "    \"Ultimate_AMZN_filtered.csv\",\n",
    "]\n",
    "\n",
    "scaler = MinMaxScaler()\n",
    "lin_reg = LinearRegression()\n",
    "\n",
    "# Train the model using the first four datasets\n",
    "X_train_list = []\n",
    "y_train_list = []\n",
    "\n",
    "for filepath in filepaths[:-1]:\n",
    "    df = pd.read_csv(filepath)\n",
    "\n",
    "    X = df[[\"comment_num\", \"retweet_num\", \"like_num\", \"follower_count\", \"compound_score\", \"Close_price-today\", \"Close_price-tmr\"]]\n",
    "    y = df['Close_price-2days']\n",
    "\n",
    "    X_scaled = scaler.fit_transform(X)\n",
    "    X_train_list.append(X_scaled)\n",
    "    y_train_list.append(y.values)\n",
    "\n",
    "X_train = np.vstack(X_train_list)\n",
    "y_train = np.concatenate(y_train_list)\n",
    "\n",
    "lin_reg.fit(X_train, y_train)\n",
    "\n",
    "# Test the model on the fifth dataset\n",
    "df_test = pd.read_csv(filepaths[-1])\n",
    "\n",
    "X_test = df_test[[\"comment_num\", \"retweet_num\", \"like_num\", \"follower_count\", \"compound_score\", \"Close_price-today\", \"Close_price-tmr\"]]\n",
    "y_test = df_test['Close_price-2days']\n",
    "\n",
    "X_test_scaled = scaler.transform(X_test)\n",
    "\n",
    "test_score = lin_reg.score(X_test_scaled, y_test)\n",
    "\n",
    "print(\"Test score on the fifth dataset:\", test_score)\n"
   ]
  },
  {
   "cell_type": "code",
   "execution_count": null,
   "metadata": {},
   "outputs": [],
   "source": []
  }
 ],
 "metadata": {
  "kernelspec": {
   "display_name": "Python 3 (ipykernel)",
   "language": "python",
   "name": "python3"
  },
  "language_info": {
   "codemirror_mode": {
    "name": "ipython",
    "version": 3
   },
   "file_extension": ".py",
   "mimetype": "text/x-python",
   "name": "python",
   "nbconvert_exporter": "python",
   "pygments_lexer": "ipython3",
   "version": "3.9.13"
  },
  "orig_nbformat": 4
 },
 "nbformat": 4,
 "nbformat_minor": 2
}
