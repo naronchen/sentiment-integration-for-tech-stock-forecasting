{
 "cells": [
  {
   "cell_type": "code",
   "execution_count": 1,
   "metadata": {},
   "outputs": [],
   "source": [
    "import pandas as pd\n",
    "\n",
    "df = pd.read_csv('../Data/ultimate/Ultimate_AAPL_filtered.csv')\n",
    "df['test'] = (df['Close_price-today'] - df['Close_price-tmr'])/df['Close_price-tmr']\n"
   ]
  },
  {
   "cell_type": "code",
   "execution_count": 9,
   "metadata": {},
   "outputs": [
    {
     "data": {
      "text/html": [
       "<div>\n",
       "<style scoped>\n",
       "    .dataframe tbody tr th:only-of-type {\n",
       "        vertical-align: middle;\n",
       "    }\n",
       "\n",
       "    .dataframe tbody tr th {\n",
       "        vertical-align: top;\n",
       "    }\n",
       "\n",
       "    .dataframe thead th {\n",
       "        text-align: right;\n",
       "    }\n",
       "</style>\n",
       "<table border=\"1\" class=\"dataframe\">\n",
       "  <thead>\n",
       "    <tr style=\"text-align: right;\">\n",
       "      <th></th>\n",
       "      <th>post_date</th>\n",
       "      <th>comment_num</th>\n",
       "      <th>retweet_num</th>\n",
       "      <th>like_num</th>\n",
       "      <th>follower_count</th>\n",
       "      <th>compound_score</th>\n",
       "      <th>Close_price-today</th>\n",
       "      <th>Close_price-tmr</th>\n",
       "      <th>Close_price-2days</th>\n",
       "      <th>test</th>\n",
       "    </tr>\n",
       "  </thead>\n",
       "  <tbody>\n",
       "    <tr>\n",
       "      <th>0</th>\n",
       "      <td>2015-01-04 21:04:38</td>\n",
       "      <td>0</td>\n",
       "      <td>0</td>\n",
       "      <td>0</td>\n",
       "      <td>1161</td>\n",
       "      <td>0.5562</td>\n",
       "      <td>26.5625</td>\n",
       "      <td>26.565001</td>\n",
       "      <td>26.9375</td>\n",
       "      <td>-0.000094</td>\n",
       "    </tr>\n",
       "    <tr>\n",
       "      <th>1</th>\n",
       "      <td>2015-01-04 21:07:58</td>\n",
       "      <td>0</td>\n",
       "      <td>0</td>\n",
       "      <td>1</td>\n",
       "      <td>218</td>\n",
       "      <td>0.2500</td>\n",
       "      <td>26.5625</td>\n",
       "      <td>26.565001</td>\n",
       "      <td>26.9375</td>\n",
       "      <td>-0.000094</td>\n",
       "    </tr>\n",
       "    <tr>\n",
       "      <th>2</th>\n",
       "      <td>2015-01-04 21:08:09</td>\n",
       "      <td>0</td>\n",
       "      <td>0</td>\n",
       "      <td>1</td>\n",
       "      <td>1099</td>\n",
       "      <td>0.0000</td>\n",
       "      <td>26.5625</td>\n",
       "      <td>26.565001</td>\n",
       "      <td>26.9375</td>\n",
       "      <td>-0.000094</td>\n",
       "    </tr>\n",
       "    <tr>\n",
       "      <th>3</th>\n",
       "      <td>2015-01-04 21:10:46</td>\n",
       "      <td>0</td>\n",
       "      <td>0</td>\n",
       "      <td>0</td>\n",
       "      <td>1070</td>\n",
       "      <td>-0.1027</td>\n",
       "      <td>26.5625</td>\n",
       "      <td>26.565001</td>\n",
       "      <td>26.9375</td>\n",
       "      <td>-0.000094</td>\n",
       "    </tr>\n",
       "    <tr>\n",
       "      <th>4</th>\n",
       "      <td>2015-01-04 21:13:34</td>\n",
       "      <td>1</td>\n",
       "      <td>3</td>\n",
       "      <td>6</td>\n",
       "      <td>259879</td>\n",
       "      <td>0.0000</td>\n",
       "      <td>26.5625</td>\n",
       "      <td>26.565001</td>\n",
       "      <td>26.9375</td>\n",
       "      <td>-0.000094</td>\n",
       "    </tr>\n",
       "  </tbody>\n",
       "</table>\n",
       "</div>"
      ],
      "text/plain": [
       "             post_date  comment_num  retweet_num  like_num  follower_count  \\\n",
       "0  2015-01-04 21:04:38            0            0         0            1161   \n",
       "1  2015-01-04 21:07:58            0            0         1             218   \n",
       "2  2015-01-04 21:08:09            0            0         1            1099   \n",
       "3  2015-01-04 21:10:46            0            0         0            1070   \n",
       "4  2015-01-04 21:13:34            1            3         6          259879   \n",
       "\n",
       "   compound_score  Close_price-today  Close_price-tmr  Close_price-2days  \\\n",
       "0          0.5562            26.5625        26.565001            26.9375   \n",
       "1          0.2500            26.5625        26.565001            26.9375   \n",
       "2          0.0000            26.5625        26.565001            26.9375   \n",
       "3         -0.1027            26.5625        26.565001            26.9375   \n",
       "4          0.0000            26.5625        26.565001            26.9375   \n",
       "\n",
       "       test  \n",
       "0 -0.000094  \n",
       "1 -0.000094  \n",
       "2 -0.000094  \n",
       "3 -0.000094  \n",
       "4 -0.000094  "
      ]
     },
     "execution_count": 9,
     "metadata": {},
     "output_type": "execute_result"
    }
   ],
   "source": [
    "df.head(5)\n"
   ]
  },
  {
   "cell_type": "code",
   "execution_count": 6,
   "metadata": {},
   "outputs": [
    {
     "name": "stdout",
     "output_type": "stream",
     "text": [
      "-0.0014044489294244018\n",
      "0.11062659510157972\n",
      "0.01641400984521232\n"
     ]
    }
   ],
   "source": [
    "print(df['test'].mean())\n",
    "print(df['test'].max())\n",
    "print(df['test'].std())"
   ]
  },
  {
   "cell_type": "code",
   "execution_count": 8,
   "metadata": {},
   "outputs": [
    {
     "data": {
      "image/png": "[encoded data removed]",
      "text/plain": [
       "<Figure size 640x480 with 1 Axes>"
      ]
     },
     "metadata": {},
     "output_type": "display_data"
    }
   ],
   "source": [
    "import matplotlib.pyplot as plt\n",
    "# get all the unique values of the column 'Close_price-today' and plot them\n",
    "close_prices = pd.Series(df['Close_price-today'].unique())\n",
    "close_prices.plot(kind='bar')\n",
    "\n",
    "plt.show()\n"
   ]
  },
  {
   "cell_type": "code",
   "execution_count": 14,
   "metadata": {},
   "outputs": [
    {
     "data": {
      "text/html": [
       "<div>\n",
       "<style scoped>\n",
       "    .dataframe tbody tr th:only-of-type {\n",
       "        vertical-align: middle;\n",
       "    }\n",
       "\n",
       "    .dataframe tbody tr th {\n",
       "        vertical-align: top;\n",
       "    }\n",
       "\n",
       "    .dataframe thead th {\n",
       "        text-align: right;\n",
       "    }\n",
       "</style>\n",
       "<table border=\"1\" class=\"dataframe\">\n",
       "  <thead>\n",
       "    <tr style=\"text-align: right;\">\n",
       "      <th></th>\n",
       "      <th>Date</th>\n",
       "      <th>Open</th>\n",
       "      <th>High</th>\n",
       "      <th>Low</th>\n",
       "      <th>Close</th>\n",
       "      <th>Adj Close</th>\n",
       "      <th>Volume</th>\n",
       "      <th>UnixTime_close</th>\n",
       "      <th>Delta</th>\n",
       "    </tr>\n",
       "  </thead>\n",
       "  <tbody>\n",
       "    <tr>\n",
       "      <th>0</th>\n",
       "      <td>2015-01-02</td>\n",
       "      <td>27.847500</td>\n",
       "      <td>27.860001</td>\n",
       "      <td>26.837500</td>\n",
       "      <td>27.332500</td>\n",
       "      <td>24.565695</td>\n",
       "      <td>212818400</td>\n",
       "      <td>1420232400</td>\n",
       "      <td>-0.770000</td>\n",
       "    </tr>\n",
       "    <tr>\n",
       "      <th>1</th>\n",
       "      <td>2015-01-05</td>\n",
       "      <td>27.072500</td>\n",
       "      <td>27.162500</td>\n",
       "      <td>26.352501</td>\n",
       "      <td>26.562500</td>\n",
       "      <td>23.873642</td>\n",
       "      <td>257142000</td>\n",
       "      <td>1420491600</td>\n",
       "      <td>0.002501</td>\n",
       "    </tr>\n",
       "    <tr>\n",
       "      <th>2</th>\n",
       "      <td>2015-01-06</td>\n",
       "      <td>26.635000</td>\n",
       "      <td>26.857500</td>\n",
       "      <td>26.157499</td>\n",
       "      <td>26.565001</td>\n",
       "      <td>23.875887</td>\n",
       "      <td>263188400</td>\n",
       "      <td>1420578000</td>\n",
       "      <td>0.372499</td>\n",
       "    </tr>\n",
       "    <tr>\n",
       "      <th>3</th>\n",
       "      <td>2015-01-07</td>\n",
       "      <td>26.799999</td>\n",
       "      <td>27.049999</td>\n",
       "      <td>26.674999</td>\n",
       "      <td>26.937500</td>\n",
       "      <td>24.210686</td>\n",
       "      <td>160423600</td>\n",
       "      <td>1420664400</td>\n",
       "      <td>1.035000</td>\n",
       "    </tr>\n",
       "    <tr>\n",
       "      <th>4</th>\n",
       "      <td>2015-01-08</td>\n",
       "      <td>27.307501</td>\n",
       "      <td>28.037500</td>\n",
       "      <td>27.174999</td>\n",
       "      <td>27.972500</td>\n",
       "      <td>25.140909</td>\n",
       "      <td>237458000</td>\n",
       "      <td>1420750800</td>\n",
       "      <td>0.030001</td>\n",
       "    </tr>\n",
       "  </tbody>\n",
       "</table>\n",
       "</div>"
      ],
      "text/plain": [
       "        Date       Open       High        Low      Close  Adj Close  \\\n",
       "0 2015-01-02  27.847500  27.860001  26.837500  27.332500  24.565695   \n",
       "1 2015-01-05  27.072500  27.162500  26.352501  26.562500  23.873642   \n",
       "2 2015-01-06  26.635000  26.857500  26.157499  26.565001  23.875887   \n",
       "3 2015-01-07  26.799999  27.049999  26.674999  26.937500  24.210686   \n",
       "4 2015-01-08  27.307501  28.037500  27.174999  27.972500  25.140909   \n",
       "\n",
       "      Volume  UnixTime_close     Delta  \n",
       "0  212818400      1420232400 -0.770000  \n",
       "1  257142000      1420491600  0.002501  \n",
       "2  263188400      1420578000  0.372499  \n",
       "3  160423600      1420664400  1.035000  \n",
       "4  237458000      1420750800  0.030001  "
      ]
     },
     "execution_count": 14,
     "metadata": {},
     "output_type": "execute_result"
    }
   ],
   "source": [
    "df = pd.read_csv('../Data/new/AAPL_Finance.csv')\n",
    "\n",
    "# Convert 'Date' column to datetime type\n",
    "df['Date'] = pd.to_datetime(df['Date'])\n",
    "\n",
    "# Sort DataFrame by date in ascending order\n",
    "df = df.sort_values('Date', ascending=True)\n",
    "\n",
    "# Create a new column 'Delta' to store the price delta\n",
    "df['Delta'] = df['Close'].shift(-1) - df['Close']\n",
    "\n",
    "# Drop the last row since there is no next day's price for it\n",
    "df = df[:-1]\n",
    "\n",
    "df.head(5)"
   ]
  },
  {
   "cell_type": "code",
   "execution_count": 20,
   "metadata": {},
   "outputs": [
    {
     "data": {
      "image/png": "[encoded data removed]",
      "text/plain": [
       "<Figure size 640x480 with 1 Axes>"
      ]
     },
     "metadata": {},
     "output_type": "display_data"
    }
   ],
   "source": [
    "plt.hist(df['Delta'], bins=100)\n",
    "plt.title('Histogram of Delta')\n",
    "plt.xlabel('Delta')\n",
    "plt.ylabel('Frequency')\n",
    "plt.show()\n"
   ]
  },
  {
   "cell_type": "code",
   "execution_count": 27,
   "metadata": {},
   "outputs": [
    {
     "name": "stdout",
     "output_type": "stream",
     "text": [
      "[-3.932499 -3.685001 -2.864998 -2.670002 -2.627499 -2.575    -2.455002\n",
      " -2.220001 -2.032501 -1.9175  ]\n"
     ]
    },
    {
     "data": {
      "image/png": "[encoded data removed]",
      "text/plain": [
       "<Figure size 640x480 with 1 Axes>"
      ]
     },
     "metadata": {},
     "output_type": "display_data"
    }
   ],
   "source": [
    "import numpy as np\n",
    "\n",
    "delta = df['Delta']\n",
    "\n",
    "delta_sorted = np.sort(delta)\n",
    "\n",
    "# Calculate the cumulative distribution function (CDF)\n",
    "cdf = np.cumsum(delta_sorted) / np.sum(delta_sorted)\n",
    "\n",
    "# Create the CDF plot\n",
    "plt.plot(delta_sorted, cdf)  \n",
    "\n",
    "# Set plot title and labels\n",
    "plt.title('CDF of Delta')\n",
    "plt.xlabel('Delta')\n",
    "plt.ylabel('Cumulative Probability')\n",
    "\n",
    "# Show the plot\n",
    "plt.show()"
   ]
  },
  {
   "cell_type": "code",
   "execution_count": null,
   "metadata": {},
   "outputs": [],
   "source": []
  }
 ],
 "metadata": {
  "kernelspec": {
   "display_name": "Python 3 (ipykernel)",
   "language": "python",
   "name": "python3"
  },
  "language_info": {
   "codemirror_mode": {
    "name": "ipython",
    "version": 3
   },
   "file_extension": ".py",
   "mimetype": "text/x-python",
   "name": "python",
   "nbconvert_exporter": "python",
   "pygments_lexer": "ipython3",
   "version": "3.9.13"
  },
  "orig_nbformat": 4
 },
 "nbformat": 4,
 "nbformat_minor": 2
}
