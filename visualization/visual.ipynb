{
 "cells": [
  {
   "cell_type": "code",
   "execution_count": 1,
   "metadata": {},
   "outputs": [],
   "source": [
    "import pandas as pd\n",
    "\n",
    "df = pd.read_csv('../Data/ultimate/Ultimate_AAPL_filtered.csv')\n",
    "df['test'] = (df['Close_price-today'] - df['Close_price-tmr'])/df['Close_price-tmr']\n"
   ]
  },
  {
   "cell_type": "code",
   "execution_count": 6,
   "metadata": {},
   "outputs": [
    {
     "name": "stdout",
     "output_type": "stream",
     "text": [
      "-0.0014044489294244018\n",
      "0.11062659510157972\n",
      "0.01641400984521232\n"
     ]
    }
   ],
   "source": [
    "df.head(5)\n",
    "print(df['test'].mean())\n",
    "print(df['test'].max())\n",
    "print(df['test'].std())"
   ]
  },
  {
   "cell_type": "code",
   "execution_count": null,
   "metadata": {},
   "outputs": [],
   "source": []
  }
 ],
 "metadata": {
  "kernelspec": {
   "display_name": "Python 3 (ipykernel)",
   "language": "python",
   "name": "python3"
  },
  "orig_nbformat": 4
 },
 "nbformat": 4,
 "nbformat_minor": 2
}
