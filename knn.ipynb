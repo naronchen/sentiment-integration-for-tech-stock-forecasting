{
 "cells": [
  {
   "cell_type": "code",
   "execution_count": 4,
   "metadata": {},
   "outputs": [
    {
     "name": "stdout",
     "output_type": "stream",
     "text": [
      "Test score on the fifth dataset: -1.1454711269496993\n"
     ]
    }
   ],
   "source": [
    "import pandas as pd\n",
    "import numpy as np\n",
    "from sklearn.neighbors import KNeighborsRegressor\n",
    "from sklearn.preprocessing import MinMaxScaler\n",
    "\n",
    "filepaths = [   \"Ultimate_AAPL_filtered.csv\",    \n",
    "                \"Ultimate_TSLA_filtered.csv\",    \n",
    "                \"Ultimate_MSFT_filtered.csv\",    \n",
    "                \"Ultimate_GOOG_filtered.csv\",    \n",
    "                \"Ultimate_AMZN_filtered.csv\",]\n",
    "\n",
    "scaler = MinMaxScaler()\n",
    "knn_reg = KNeighborsRegressor(n_neighbors=5)\n",
    "\n",
    "# Train the model using the first four datasets\n",
    "X_train_list = []\n",
    "y_train_list = []\n",
    "\n",
    "for filepath in filepaths[:-1]:\n",
    "    df = pd.read_csv(filepath)\n",
    "\n",
    "    X = df[[\"comment_num\", \"retweet_num\", \"like_num\", \"follower_count\", \"compound_score\", \"Close_price-today\", \"Close_price-tmr\"]]\n",
    "    y = df['Close_price-2days']\n",
    "\n",
    "    X_scaled = scaler.fit_transform(X)\n",
    "    X_train_list.append(X_scaled)\n",
    "    y_train_list.append(y.values)\n",
    "\n",
    "X_train = np.vstack(X_train_list)\n",
    "y_train = np.concatenate(y_train_list)\n",
    "\n",
    "knn_reg.fit(X_train, y_train)\n",
    "\n",
    "# Test the model on the fifth dataset\n",
    "df_test = pd.read_csv(filepaths[-1])\n",
    "\n",
    "X_test = df_test[[\"comment_num\", \"retweet_num\", \"like_num\", \"follower_count\", \"compound_score\", \"Close_price-today\", \"Close_price-tmr\"]]\n",
    "y_test = df_test['Close_price-2days']\n",
    "\n",
    "X_test_scaled = scaler.transform(X_test)\n",
    "\n",
    "test_score = knn_reg.score(X_test_scaled, y_test)\n",
    "\n",
    "print(\"Test score on the fifth dataset:\", test_score)\n"
   ]
  },
  {
   "cell_type": "code",
   "execution_count": 5,
   "metadata": {},
   "outputs": [
    {
     "name": "stdout",
     "output_type": "stream",
     "text": [
      "Test score on the fifth dataset: -0.21682671202757486\n"
     ]
    }
   ],
   "source": [
    "import pandas as pd\n",
    "import numpy as np\n",
    "from sklearn.neighbors import KNeighborsRegressor\n",
    "from sklearn.preprocessing import MinMaxScaler\n",
    "from sklearn.model_selection import GridSearchCV\n",
    "from sklearn.ensemble import BaggingRegressor\n",
    "\n",
    "filepaths = [    \"Ultimate_AAPL_filtered.csv\",    \"Ultimate_TSLA_filtered.csv\",    \"Ultimate_MSFT_filtered.csv\",    \"Ultimate_GOOG_filtered.csv\",    \"Ultimate_AMZN_filtered.csv\",]\n",
    "\n",
    "scaler = MinMaxScaler()\n",
    "knn_reg = KNeighborsRegressor()\n",
    "\n",
    "# Train the model using the first four datasets\n",
    "X_train_list = []\n",
    "y_train_list = []\n",
    "\n",
    "for filepath in filepaths[:-1]:\n",
    "    df = pd.read_csv(filepath)\n",
    "\n",
    "    X = df[[\"comment_num\", \"retweet_num\", \"like_num\", \"follower_count\", \"compound_score\", \"Close_price-today\", \"Close_price-tmr\"]]\n",
    "    y = df['Close_price-2days']\n",
    "\n",
    "    X_scaled = scaler.fit_transform(X)\n",
    "    X_train_list.append(X_scaled)\n",
    "    y_train_list.append(y.values)\n",
    "\n",
    "X_train = np.vstack(X_train_list)\n",
    "y_train = np.concatenate(y_train_list)\n",
    "\n",
    "# Hyperparameter tuning using GridSearchCV\n",
    "params = {\n",
    "    'n_neighbors': [3, 5, 7],\n",
    "    'weights': ['uniform', 'distance'],\n",
    "    'p': [1, 2]\n",
    "}\n",
    "grid = GridSearchCV(knn_reg, params, cv=5, n_jobs=-1)\n",
    "grid.fit(X_train, y_train)\n",
    "knn_reg_best = grid.best_estimator_\n",
    "\n",
    "# Ensemble methods using BaggingRegressor\n",
    "bagging_reg = BaggingRegressor(base_estimator=knn_reg_best, n_estimators=10, random_state=0)\n",
    "bagging_reg.fit(X_train, y_train)\n",
    "\n",
    "# Test the model on the fifth dataset\n",
    "df_test = pd.read_csv(filepaths[-1])\n",
    "\n",
    "X_test = df_test[[\"comment_num\", \"retweet_num\", \"like_num\", \"follower_count\", \"compound_score\", \"Close_price-today\", \"Close_price-tmr\"]]\n",
    "y_test = df_test['Close_price-2days']\n",
    "\n",
    "X_test_scaled = scaler.transform(X_test)\n",
    "\n",
    "test_score = bagging_reg.score(X_test_scaled, y_test)\n",
    "\n",
    "print(\"Test score on the fifth dataset:\", test_score)\n"
   ]
  },
  {
   "cell_type": "code",
   "execution_count": null,
   "metadata": {},
   "outputs": [],
   "source": []
  }
 ],
 "metadata": {
  "kernelspec": {
   "display_name": "Python 3 (ipykernel)",
   "language": "python",
   "name": "python3"
  },
  "language_info": {
   "codemirror_mode": {
    "name": "ipython",
    "version": 3
   },
   "file_extension": ".py",
   "mimetype": "text/x-python",
   "name": "python",
   "nbconvert_exporter": "python",
   "pygments_lexer": "ipython3",
   "version": "3.9.13"
  },
  "orig_nbformat": 4
 },
 "nbformat": 4,
 "nbformat_minor": 2
}
